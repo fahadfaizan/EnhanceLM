{
 "cells": [
  {
   "cell_type": "code",
   "execution_count": 5,
   "metadata": {},
   "outputs": [
    {
     "name": "stdout",
     "output_type": "stream",
     "text": [
      "Installation Successful !\n"
     ]
    }
   ],
   "source": [
    "# !pip install python-pptx\n",
    "# !pip install numpy\n",
    "# !pip install pandas\n",
    "\n",
    "print(\"Installation Successful !\")"
   ]
  },
  {
   "cell_type": "code",
   "execution_count": 6,
   "metadata": {},
   "outputs": [],
   "source": [
    "from ppt_module.main import main"
   ]
  },
  {
   "cell_type": "code",
   "execution_count": 7,
   "metadata": {},
   "outputs": [],
   "source": [
    "# from ppt_module.utils.sort_elements import sort_elements"
   ]
  },
  {
   "cell_type": "code",
   "execution_count": 8,
   "metadata": {},
   "outputs": [
    {
     "name": "stdout",
     "output_type": "stream",
     "text": [
      "visited slide 0\n",
      "visited slide 1\n",
      "visited slide 2\n"
     ]
    },
    {
     "data": {
      "text/plain": [
       "{0: {'content': 'Title Temp ppt', 'text': ''},\n",
       " 1: {'content': 'IntroductionThis is a text. This is another text{\"Data\": {\"1\": \"Row A\", \"2\": \"Row B\"}, \"Col A\": {\"1\": \"6\", \"2\": \"4\"}, \"Col B\": {\"1\": \"9\", \"2\": \"8\"}}',\n",
       "  'text': '',\n",
       "  'table_0': '{\"Data\": {\"1\": \"Row A\", \"2\": \"Row B\"}, \"Col A\": {\"1\": \"6\", \"2\": \"4\"}, \"Col B\": {\"1\": \"9\", \"2\": \"8\"}}'},\n",
       " 2: {'content': 'Thank YouEnd of PPT', 'text': ''}}"
      ]
     },
     "execution_count": 8,
     "metadata": {},
     "output_type": "execute_result"
    }
   ],
   "source": [
    "path = \"test_ppt.pptx\"\n",
    "main(path)"
   ]
  },
  {
   "cell_type": "code",
   "execution_count": null,
   "metadata": {},
   "outputs": [],
   "source": []
  }
 ],
 "metadata": {
  "kernelspec": {
   "display_name": "Python 3",
   "language": "python",
   "name": "python3"
  },
  "language_info": {
   "codemirror_mode": {
    "name": "ipython",
    "version": 3
   },
   "file_extension": ".py",
   "mimetype": "text/x-python",
   "name": "python",
   "nbconvert_exporter": "python",
   "pygments_lexer": "ipython3",
   "version": "3.11.1"
  }
 },
 "nbformat": 4,
 "nbformat_minor": 2
}
